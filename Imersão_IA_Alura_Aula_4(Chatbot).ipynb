{
  "nbformat": 4,
  "nbformat_minor": 0,
  "metadata": {
    "colab": {
      "provenance": [],
      "authorship_tag": "ABX9TyNXVzQYZoR3BZs3FyIr5oZQ",
      "include_colab_link": true
    },
    "kernelspec": {
      "name": "python3",
      "display_name": "Python 3"
    },
    "language_info": {
      "name": "python"
    }
  },
  "cells": [
    {
      "cell_type": "markdown",
      "metadata": {
        "id": "view-in-github",
        "colab_type": "text"
      },
      "source": [
        "<a href=\"https://colab.research.google.com/github/MacMenez/ABC_Cursos_Profissionalizantes/blob/main/Imers%C3%A3o_IA_Alura_Aula_4(Chatbot).ipynb\" target=\"_parent\"><img src=\"https://colab.research.google.com/assets/colab-badge.svg\" alt=\"Open In Colab\"/></a>"
      ]
    },
    {
      "cell_type": "code",
      "execution_count": 1,
      "metadata": {
        "id": "mGmPHVq-HDYB"
      },
      "outputs": [],
      "source": [
        "!pip install -q -U google-generativeai"
      ]
    },
    {
      "cell_type": "code",
      "source": [
        "# Import the Python SDK\n",
        "import google.generativeai as genai\n",
        "from google.colab import userdata\n",
        "api_key = userdata.get('SECRET_KEY')\n",
        "\n",
        "genai.configure(api_key=api_key)"
      ],
      "metadata": {
        "id": "G_3FJG0fJ7AD"
      },
      "execution_count": 2,
      "outputs": []
    },
    {
      "cell_type": "markdown",
      "source": [
        "Listar os modelos disponíveis\n"
      ],
      "metadata": {
        "id": "bOd8YRVTKBM_"
      }
    },
    {
      "cell_type": "code",
      "source": [
        "for m in genai.list_models():\n",
        "  if 'generateContent' in m .supported_generation_methods:\n",
        "    print(m.name)"
      ],
      "metadata": {
        "colab": {
          "base_uri": "https://localhost:8080/",
          "height": 139
        },
        "id": "XrNgiT2fKMJY",
        "outputId": "69cb0a41-0f11-4158-83f3-393fa15f3cdc"
      },
      "execution_count": 3,
      "outputs": [
        {
          "output_type": "stream",
          "name": "stdout",
          "text": [
            "models/gemini-1.0-pro\n",
            "models/gemini-1.0-pro-001\n",
            "models/gemini-1.0-pro-latest\n",
            "models/gemini-1.0-pro-vision-latest\n",
            "models/gemini-1.5-pro-latest\n",
            "models/gemini-pro\n",
            "models/gemini-pro-vision\n"
          ]
        }
      ]
    },
    {
      "cell_type": "code",
      "source": [
        "genration_config ={\n",
        "    \"candidate_count\": 1,\n",
        "    \"temperature\": 0.5,\n",
        "}"
      ],
      "metadata": {
        "id": "Wr-Zfh_-LgC7"
      },
      "execution_count": 4,
      "outputs": []
    },
    {
      "cell_type": "code",
      "source": [
        "safety_settings = {\n",
        "    \"HARASSMENT\": \"BLOCK_NONE\",\n",
        "    \"HATE\": \"BLOCK_NONE\",\n",
        "    \"SEXUAL\": \"BLOCK_NONE\",\n",
        "    \"DANGEROUS\": \"BLOCK_NONE\",\n",
        "}"
      ],
      "metadata": {
        "id": "jNyRCstJL935"
      },
      "execution_count": 5,
      "outputs": []
    },
    {
      "cell_type": "markdown",
      "source": [
        "Inicializando o modelo"
      ],
      "metadata": {
        "id": "dcJkLGfIM7ed"
      }
    },
    {
      "cell_type": "code",
      "source": [
        "model = genai.GenerativeModel(model_name=\"gemini-1.0-pro\", generation_config=genration_config, safety_settings=safety_settings)"
      ],
      "metadata": {
        "id": "_B8gUsjiM-Qx"
      },
      "execution_count": 6,
      "outputs": []
    },
    {
      "cell_type": "code",
      "source": [
        "response = model.generate_content(\"Aprender conteúdo sobre IA. Me dê sugestões.\")\n",
        "print(response.text)"
      ],
      "metadata": {
        "colab": {
          "base_uri": "https://localhost:8080/",
          "height": 763
        },
        "id": "nOKTL55tN0iE",
        "outputId": "e1d26a23-f43b-4e3f-beba-a46ca81ce413"
      },
      "execution_count": 7,
      "outputs": [
        {
          "output_type": "stream",
          "name": "stdout",
          "text": [
            "**Cursos Online:**\n",
            "\n",
            "* **Coursera:**\n",
            "    * Aprendizado de Máquina (Universidade de Stanford)\n",
            "    * Visão Computacional (Universidade de Illinois em Urbana-Champaign)\n",
            "    * Processamento de Linguagem Natural (Universidade de Stanford)\n",
            "* **edX:**\n",
            "    * Inteligência Artificial (MIT)\n",
            "    * Aprendizado de Máquina (Universidade de Michigan)\n",
            "    * Robótica (Universidade da Pensilvânia)\n",
            "* **Udemy:**\n",
            "    * Curso Completo de Inteligência Artificial\n",
            "    * Aprendizado de Máquina para Iniciantes\n",
            "    * Visão Computacional com Python\n",
            "\n",
            "**Livros:**\n",
            "\n",
            "* **Inteligência Artificial: Uma Abordagem Moderna** (Stuart Russell e Peter Norvig)\n",
            "* **Aprendizado de Máquina** (Tom Mitchell)\n",
            "* **Visão Computacional** (Richard Szeliski)\n",
            "* **Processamento de Linguagem Natural** (Christopher Manning e Hinrich Schütze)\n",
            "\n",
            "**Recursos Gratuitos:**\n",
            "\n",
            "* **OpenAI Gym:** Plataforma para desenvolver e testar algoritmos de aprendizado de máquina\n",
            "* **TensorFlow:** Biblioteca de código aberto para aprendizado de máquina\n",
            "* **PyTorch:** Outra biblioteca de código aberto para aprendizado de máquina\n",
            "* **Kaggle:** Comunidade online para competições de aprendizado de máquina e conjuntos de dados\n",
            "* **MIT OpenCourseWare:** Cursos gratuitos do MIT sobre IA e tópicos relacionados\n",
            "\n",
            "**Podcasts:**\n",
            "\n",
            "* **The AI Podcast**\n",
            "* **Lex Fridman Podcast**\n",
            "* **Machine Learning Street Talk**\n",
            "* **Reinforcement Learning Podcast**\n",
            "\n",
            "**Revistas e Conferências:**\n",
            "\n",
            "* **Journal of Artificial Intelligence Research**\n",
            "* **IEEE Transactions on Neural Networks and Learning Systems**\n",
            "* **Conferência Internacional sobre Aprendizado de Máquina (ICML)**\n",
            "* **Conferência Internacional sobre Inteligência Artificial (IJCAI)**\n"
          ]
        }
      ]
    },
    {
      "cell_type": "code",
      "source": [
        "chat = model.start_chat(history=[])"
      ],
      "metadata": {
        "id": "QkSPYUeDOFCr"
      },
      "execution_count": 8,
      "outputs": []
    },
    {
      "cell_type": "code",
      "source": [
        "prompt = input(\"Esperando prompt: \")\n",
        "\n",
        "while prompt != \"fim\":\n",
        "  response = chat.send_message(prompt)\n",
        "  print(\"Resposta: \", response.text, \"\\n\")\n",
        "  prompt = input(\"Esperando prompt: \")"
      ],
      "metadata": {
        "colab": {
          "base_uri": "https://localhost:8080/",
          "height": 139
        },
        "id": "Tt2a9313PNo9",
        "outputId": "86fd7624-3abb-4b1a-e532-98610575e6c6"
      },
      "execution_count": 10,
      "outputs": [
        {
          "name": "stdout",
          "output_type": "stream",
          "text": [
            "Esperando prompt: Qual é a capital do Japão?\n",
            "Resposta:  Tóquio \n",
            "\n",
            "Esperando prompt: Qual é a comida típica desse país?\n",
            "Resposta:  Sushi \n",
            "\n",
            "Esperando prompt: fim\n"
          ]
        }
      ]
    }
  ]
}